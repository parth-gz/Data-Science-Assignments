{
 "cells": [
  {
   "cell_type": "code",
   "execution_count": 5,
   "id": "b4bfd1ac",
   "metadata": {},
   "outputs": [
    {
     "name": "stdout",
     "output_type": "stream",
     "text": [
      "[main b4a450b] added 3_twitter.ipynb\n",
      " 1 file changed, 106 insertions(+), 1 deletion(-)\n"
     ]
    },
    {
     "name": "stderr",
     "output_type": "stream",
     "text": [
      "To https://github.com/parth-gz/Data-Science-Assignments\n",
      " ! [rejected]        main -> main (non-fast-forward)\n",
      "error: failed to push some refs to 'https://github.com/parth-gz/Data-Science-Assignments'\n",
      "hint: Updates were rejected because the tip of your current branch is behind\n",
      "hint: its remote counterpart. If you want to integrate the remote changes,\n",
      "hint: use 'git pull' before pushing again.\n",
      "hint: See the 'Note about fast-forwards' in 'git push --help' for details.\n"
     ]
    }
   ],
   "source": [
    "!git add 3_twitter.ipynb\n",
    "!git commit -m \"added 3_twitter.ipynb\"\n",
    "!git push origin main"
   ]
  },
  {
   "cell_type": "code",
   "execution_count": 2,
   "id": "1e509ade",
   "metadata": {},
   "outputs": [
    {
     "name": "stderr",
     "output_type": "stream",
     "text": [
      "From https://github.com/parth-gz/Data-Science-Assignments\n",
      "   b8d9898..20fb307  main       -> origin/main\n",
      "warning: in the working copy of 'Assignment-5 Naive Bayes/1_salary_classification.ipynb', LF will be replaced by CRLF the next time Git touches it\n",
      "warning: in the working copy of 'Assignment-5 Naive Bayes/2_cars.ipynb', LF will be replaced by CRLF the next time Git touches it\n",
      "error: Your local changes to the following files would be overwritten by merge:\n",
      "\tAssignment-5 Naive Bayes/1_salary_classification.ipynb\n",
      "Please commit your changes or stash them before you merge.\n",
      "Aborting\n",
      "Merge with strategy ort failed.\n"
     ]
    }
   ],
   "source": [
    "!git pull\n"
   ]
  },
  {
   "cell_type": "code",
   "execution_count": 3,
   "id": "5d8af26a",
   "metadata": {},
   "outputs": [
    {
     "name": "stdout",
     "output_type": "stream",
     "text": [
      "On branch main\n",
      "Your branch and 'origin/main' have diverged,\n",
      "and have 1 and 1 different commits each, respectively.\n",
      "  (use \"git pull\" if you want to integrate the remote branch with yours)\n",
      "\n",
      "Changes not staged for commit:\n",
      "  (use \"git add <file>...\" to update what will be committed)\n",
      "  (use \"git restore <file>...\" to discard changes in working directory)\n",
      "\tmodified:   1_salary_classification.ipynb\n",
      "\tmodified:   2_cars.ipynb\n",
      "\n",
      "Untracked files:\n",
      "  (use \"git add <file>...\" to include in what will be committed)\n",
      "\t.ipynb_checkpoints/\n",
      "\t~$oblem Statement (Naive Bayes).docx\n",
      "\t../Assignment-7 DT and RF/~$oblem Statement.docx\n",
      "\t../ass.zip\n",
      "\n",
      "no changes added to commit (use \"git add\" and/or \"git commit -a\")\n"
     ]
    }
   ],
   "source": [
    "!git status"
   ]
  },
  {
   "cell_type": "code",
   "execution_count": 4,
   "id": "4939bae1",
   "metadata": {},
   "outputs": [
    {
     "name": "stderr",
     "output_type": "stream",
     "text": [
      "From https://github.com/parth-gz/Data-Science-Assignments\n",
      " * branch            main       -> FETCH_HEAD\n",
      "warning: in the working copy of 'Assignment-5 Naive Bayes/3_twitter.ipynb', LF will be replaced by CRLF the next time Git touches it\n",
      "error: Your local changes to the following files would be overwritten by merge:\n",
      "\tAssignment-5 Naive Bayes/1_salary_classification.ipynb\n",
      "Please commit your changes or stash them before you merge.\n",
      "Aborting\n",
      "Merge with strategy ort failed.\n"
     ]
    }
   ],
   "source": [
    "!git pull origin main"
   ]
  },
  {
   "cell_type": "code",
   "execution_count": 6,
   "id": "c3df85e5",
   "metadata": {},
   "outputs": [
    {
     "name": "stderr",
     "output_type": "stream",
     "text": [
      "error: cannot pull with rebase: You have unstaged changes.\n",
      "error: Please commit or stash them.\n",
      "To https://github.com/parth-gz/Data-Science-Assignments\n",
      " ! [rejected]        main -> main (non-fast-forward)\n",
      "error: failed to push some refs to 'https://github.com/parth-gz/Data-Science-Assignments'\n",
      "hint: Updates were rejected because the tip of your current branch is behind\n",
      "hint: its remote counterpart. If you want to integrate the remote changes,\n",
      "hint: use 'git pull' before pushing again.\n",
      "hint: See the 'Note about fast-forwards' in 'git push --help' for details.\n"
     ]
    }
   ],
   "source": [
    "!git pull --rebase origin main\n",
    "!git push origin main\n"
   ]
  },
  {
   "cell_type": "code",
   "execution_count": null,
   "id": "dbeb5825",
   "metadata": {},
   "outputs": [],
   "source": []
  }
 ],
 "metadata": {
  "kernelspec": {
   "display_name": "Python 3 (ipykernel)",
   "language": "python",
   "name": "python3"
  },
  "language_info": {
   "codemirror_mode": {
    "name": "ipython",
    "version": 3
   },
   "file_extension": ".py",
   "mimetype": "text/x-python",
   "name": "python",
   "nbconvert_exporter": "python",
   "pygments_lexer": "ipython3",
   "version": "3.11.5"
  }
 },
 "nbformat": 4,
 "nbformat_minor": 5
}
