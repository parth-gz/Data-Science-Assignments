{
  "cells": [
    {
      "cell_type": "markdown",
      "metadata": {
        "colab_type": "text",
        "id": "view-in-github"
      },
      "source": [
        "<a href=\"https://colab.research.google.com/github/parth-gz/Data-Science-Assignments/blob/main/Assignment-8%20Simple%20Linear%20Regression/1_calories.ipynb\" target=\"_parent\"><img src=\"https://colab.research.google.com/assets/colab-badge.svg\" alt=\"Open In Colab\"/></a>"
      ]
    },
    {
      "cell_type": "markdown",
      "id": "wQh14GRVzZGZ",
      "metadata": {
        "id": "wQh14GRVzZGZ"
      },
      "source": [
        "# Assignment 8 - Linear Regression"
      ]
    },
    {
      "cell_type": "markdown",
      "id": "-PWagJ0Fz0i4",
      "metadata": {
        "id": "-PWagJ0Fz0i4"
      },
      "source": [
        "## Problem statement 1\n",
        "A certain food-based company conducted a survey with the help of a fitness company to find the relationship between a person’s weight gain and the number of calories they consumed in order to come up with diet plans for these individuals. Build a Simple Linear Regression model with calories consumed as the target variable. Apply necessary transformations and record the RMSE and correlation coefficient values for different models."
      ]
    },
    {
      "cell_type": "markdown",
      "id": "JF4Q-w3W0boQ",
      "metadata": {
        "id": "JF4Q-w3W0boQ"
      },
      "source": [
        "## 1. Business Problem\n",
        "\n",
        "1.1 What is the business objective?\n",
        "\n",
        "The objective is to analyze the relationship between calories consumed and weight gained to develop a predictive model. This will help individuals and businesses in the health, fitness, and nutrition industries understand how calorie intake impacts weight gain.\n",
        "\n",
        "\n",
        "1.2 Are there any constraints?\n",
        "\n",
        "Limited Data: The dataset contains only 14 observations, which may limit generalizability.\n",
        "\n",
        "Linear Assumption: The model assumes a direct relationship between calories and weight, but real-world factors like metabolism and activity level can affect outcomes.\n",
        "\n",
        "No Additional Features: Other influencing factors (e.g., age, gender, activity level) are not considered in this dataset.\n",
        "\n",
        "Overfitting Risk: Using polynomial transformations can improve accuracy but may reduce generalization to new data."
      ]
    },
    {
      "cell_type": "markdown",
      "id": "NwHjo1Y50tQ9",
      "metadata": {
        "id": "NwHjo1Y50tQ9"
      },
      "source": [
        "## 2. Data dictionary\n",
        "![Screenshot 2025-02-27 151645.png](data:image/png;base64,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)"
      ]
    },
    {
      "cell_type": "code",
      "execution_count": null,
      "id": "_JC3XjUZwT-m",
      "metadata": {
        "id": "_JC3XjUZwT-m"
      },
      "outputs": [],
      "source": [
        "#Import necessary libraries\n",
        "import pandas as pd\n",
        "import numpy as np\n",
        "import matplotlib.pyplot as plt\n",
        "import seaborn as sns"
      ]
    },
    {
      "cell_type": "code",
      "execution_count": 2,
      "id": "c0Ym719J3ZiG",
      "metadata": {
        "id": "c0Ym719J3ZiG"
      },
      "outputs": [],
      "source": [
        "df=pd.read_csv(\"calories_consumed.csv\")"
      ]
    },
    {
      "cell_type": "code",
      "execution_count": 6,
      "id": "DfkM8kCN4Ls3",
      "metadata": {
        "colab": {
          "base_uri": "https://localhost:8080/",
          "height": 206
        },
        "id": "DfkM8kCN4Ls3",
        "outputId": "82b4ed83-3c3d-4cfa-e1b3-939604598e04"
      },
      "outputs": [
        {
          "data": {
            "application/vnd.google.colaboratory.intrinsic+json": {
              "summary": "{\n  \"name\": \"df\",\n  \"rows\": 14,\n  \"fields\": [\n    {\n      \"column\": \"Weight gained (grams)\",\n      \"properties\": {\n        \"dtype\": \"number\",\n        \"std\": 333,\n        \"min\": 62,\n        \"max\": 1100,\n        \"num_unique_values\": 13,\n        \"samples\": [\n          350,\n          100,\n          108\n        ],\n        \"semantic_type\": \"\",\n        \"description\": \"\"\n      }\n    },\n    {\n      \"column\": \"Calories Consumed\",\n      \"properties\": {\n        \"dtype\": \"number\",\n        \"std\": 752,\n        \"min\": 1400,\n        \"max\": 3900,\n        \"num_unique_values\": 13,\n        \"samples\": [\n          2700,\n          3900,\n          1500\n        ],\n        \"semantic_type\": \"\",\n        \"description\": \"\"\n      }\n    }\n  ]\n}",
              "type": "dataframe",
              "variable_name": "df"
            },
            "text/html": [
              "\n",
              "  <div id=\"df-71ba6491-f2da-4465-ab04-51bc80a88d2d\" class=\"colab-df-container\">\n",
              "    <div>\n",
              "<style scoped>\n",
              "    .dataframe tbody tr th:only-of-type {\n",
              "        vertical-align: middle;\n",
              "    }\n",
              "\n",
              "    .dataframe tbody tr th {\n",
              "        vertical-align: top;\n",
              "    }\n",
              "\n",
              "    .dataframe thead th {\n",
              "        text-align: right;\n",
              "    }\n",
              "</style>\n",
              "<table border=\"1\" class=\"dataframe\">\n",
              "  <thead>\n",
              "    <tr style=\"text-align: right;\">\n",
              "      <th></th>\n",
              "      <th>Weight gained (grams)</th>\n",
              "      <th>Calories Consumed</th>\n",
              "    </tr>\n",
              "  </thead>\n",
              "  <tbody>\n",
              "    <tr>\n",
              "      <th>0</th>\n",
              "      <td>108</td>\n",
              "      <td>1500</td>\n",
              "    </tr>\n",
              "    <tr>\n",
              "      <th>1</th>\n",
              "      <td>200</td>\n",
              "      <td>2300</td>\n",
              "    </tr>\n",
              "    <tr>\n",
              "      <th>2</th>\n",
              "      <td>900</td>\n",
              "      <td>3400</td>\n",
              "    </tr>\n",
              "    <tr>\n",
              "      <th>3</th>\n",
              "      <td>200</td>\n",
              "      <td>2200</td>\n",
              "    </tr>\n",
              "    <tr>\n",
              "      <th>4</th>\n",
              "      <td>300</td>\n",
              "      <td>2500</td>\n",
              "    </tr>\n",
              "  </tbody>\n",
              "</table>\n",
              "</div>\n",
              "    <div class=\"colab-df-buttons\">\n",
              "\n",
              "  <div class=\"colab-df-container\">\n",
              "    <button class=\"colab-df-convert\" onclick=\"convertToInteractive('df-71ba6491-f2da-4465-ab04-51bc80a88d2d')\"\n",
              "            title=\"Convert this dataframe to an interactive table.\"\n",
              "            style=\"display:none;\">\n",
              "\n",
              "  <svg xmlns=\"http://www.w3.org/2000/svg\" height=\"24px\" viewBox=\"0 -960 960 960\">\n",
              "    <path d=\"M120-120v-720h720v720H120Zm60-500h600v-160H180v160Zm220 220h160v-160H400v160Zm0 220h160v-160H400v160ZM180-400h160v-160H180v160Zm440 0h160v-160H620v160ZM180-180h160v-160H180v160Zm440 0h160v-160H620v160Z\"/>\n",
              "  </svg>\n",
              "    </button>\n",
              "\n",
              "  <style>\n",
              "    .colab-df-container {\n",
              "      display:flex;\n",
              "      gap: 12px;\n",
              "    }\n",
              "\n",
              "    .colab-df-convert {\n",
              "      background-color: #E8F0FE;\n",
              "      border: none;\n",
              "      border-radius: 50%;\n",
              "      cursor: pointer;\n",
              "      display: none;\n",
              "      fill: #1967D2;\n",
              "      height: 32px;\n",
              "      padding: 0 0 0 0;\n",
              "      width: 32px;\n",
              "    }\n",
              "\n",
              "    .colab-df-convert:hover {\n",
              "      background-color: #E2EBFA;\n",
              "      box-shadow: 0px 1px 2px rgba(60, 64, 67, 0.3), 0px 1px 3px 1px rgba(60, 64, 67, 0.15);\n",
              "      fill: #174EA6;\n",
              "    }\n",
              "\n",
              "    .colab-df-buttons div {\n",
              "      margin-bottom: 4px;\n",
              "    }\n",
              "\n",
              "    [theme=dark] .colab-df-convert {\n",
              "      background-color: #3B4455;\n",
              "      fill: #D2E3FC;\n",
              "    }\n",
              "\n",
              "    [theme=dark] .colab-df-convert:hover {\n",
              "      background-color: #434B5C;\n",
              "      box-shadow: 0px 1px 3px 1px rgba(0, 0, 0, 0.15);\n",
              "      filter: drop-shadow(0px 1px 2px rgba(0, 0, 0, 0.3));\n",
              "      fill: #FFFFFF;\n",
              "    }\n",
              "  </style>\n",
              "\n",
              "    <script>\n",
              "      const buttonEl =\n",
              "        document.querySelector('#df-71ba6491-f2da-4465-ab04-51bc80a88d2d button.colab-df-convert');\n",
              "      buttonEl.style.display =\n",
              "        google.colab.kernel.accessAllowed ? 'block' : 'none';\n",
              "\n",
              "      async function convertToInteractive(key) {\n",
              "        const element = document.querySelector('#df-71ba6491-f2da-4465-ab04-51bc80a88d2d');\n",
              "        const dataTable =\n",
              "          await google.colab.kernel.invokeFunction('convertToInteractive',\n",
              "                                                    [key], {});\n",
              "        if (!dataTable) return;\n",
              "\n",
              "        const docLinkHtml = 'Like what you see? Visit the ' +\n",
              "          '<a target=\"_blank\" href=https://colab.research.google.com/notebooks/data_table.ipynb>data table notebook</a>'\n",
              "          + ' to learn more about interactive tables.';\n",
              "        element.innerHTML = '';\n",
              "        dataTable['output_type'] = 'display_data';\n",
              "        await google.colab.output.renderOutput(dataTable, element);\n",
              "        const docLink = document.createElement('div');\n",
              "        docLink.innerHTML = docLinkHtml;\n",
              "        element.appendChild(docLink);\n",
              "      }\n",
              "    </script>\n",
              "  </div>\n",
              "\n",
              "\n",
              "<div id=\"df-3fd72da7-8dbd-401d-8c95-b4460790cbf7\">\n",
              "  <button class=\"colab-df-quickchart\" onclick=\"quickchart('df-3fd72da7-8dbd-401d-8c95-b4460790cbf7')\"\n",
              "            title=\"Suggest charts\"\n",
              "            style=\"display:none;\">\n",
              "\n",
              "<svg xmlns=\"http://www.w3.org/2000/svg\" height=\"24px\"viewBox=\"0 0 24 24\"\n",
              "     width=\"24px\">\n",
              "    <g>\n",
              "        <path d=\"M19 3H5c-1.1 0-2 .9-2 2v14c0 1.1.9 2 2 2h14c1.1 0 2-.9 2-2V5c0-1.1-.9-2-2-2zM9 17H7v-7h2v7zm4 0h-2V7h2v10zm4 0h-2v-4h2v4z\"/>\n",
              "    </g>\n",
              "</svg>\n",
              "  </button>\n",
              "\n",
              "<style>\n",
              "  .colab-df-quickchart {\n",
              "      --bg-color: #E8F0FE;\n",
              "      --fill-color: #1967D2;\n",
              "      --hover-bg-color: #E2EBFA;\n",
              "      --hover-fill-color: #174EA6;\n",
              "      --disabled-fill-color: #AAA;\n",
              "      --disabled-bg-color: #DDD;\n",
              "  }\n",
              "\n",
              "  [theme=dark] .colab-df-quickchart {\n",
              "      --bg-color: #3B4455;\n",
              "      --fill-color: #D2E3FC;\n",
              "      --hover-bg-color: #434B5C;\n",
              "      --hover-fill-color: #FFFFFF;\n",
              "      --disabled-bg-color: #3B4455;\n",
              "      --disabled-fill-color: #666;\n",
              "  }\n",
              "\n",
              "  .colab-df-quickchart {\n",
              "    background-color: var(--bg-color);\n",
              "    border: none;\n",
              "    border-radius: 50%;\n",
              "    cursor: pointer;\n",
              "    display: none;\n",
              "    fill: var(--fill-color);\n",
              "    height: 32px;\n",
              "    padding: 0;\n",
              "    width: 32px;\n",
              "  }\n",
              "\n",
              "  .colab-df-quickchart:hover {\n",
              "    background-color: var(--hover-bg-color);\n",
              "    box-shadow: 0 1px 2px rgba(60, 64, 67, 0.3), 0 1px 3px 1px rgba(60, 64, 67, 0.15);\n",
              "    fill: var(--button-hover-fill-color);\n",
              "  }\n",
              "\n",
              "  .colab-df-quickchart-complete:disabled,\n",
              "  .colab-df-quickchart-complete:disabled:hover {\n",
              "    background-color: var(--disabled-bg-color);\n",
              "    fill: var(--disabled-fill-color);\n",
              "    box-shadow: none;\n",
              "  }\n",
              "\n",
              "  .colab-df-spinner {\n",
              "    border: 2px solid var(--fill-color);\n",
              "    border-color: transparent;\n",
              "    border-bottom-color: var(--fill-color);\n",
              "    animation:\n",
              "      spin 1s steps(1) infinite;\n",
              "  }\n",
              "\n",
              "  @keyframes spin {\n",
              "    0% {\n",
              "      border-color: transparent;\n",
              "      border-bottom-color: var(--fill-color);\n",
              "      border-left-color: var(--fill-color);\n",
              "    }\n",
              "    20% {\n",
              "      border-color: transparent;\n",
              "      border-left-color: var(--fill-color);\n",
              "      border-top-color: var(--fill-color);\n",
              "    }\n",
              "    30% {\n",
              "      border-color: transparent;\n",
              "      border-left-color: var(--fill-color);\n",
              "      border-top-color: var(--fill-color);\n",
              "      border-right-color: var(--fill-color);\n",
              "    }\n",
              "    40% {\n",
              "      border-color: transparent;\n",
              "      border-right-color: var(--fill-color);\n",
              "      border-top-color: var(--fill-color);\n",
              "    }\n",
              "    60% {\n",
              "      border-color: transparent;\n",
              "      border-right-color: var(--fill-color);\n",
              "    }\n",
              "    80% {\n",
              "      border-color: transparent;\n",
              "      border-right-color: var(--fill-color);\n",
              "      border-bottom-color: var(--fill-color);\n",
              "    }\n",
              "    90% {\n",
              "      border-color: transparent;\n",
              "      border-bottom-color: var(--fill-color);\n",
              "    }\n",
              "  }\n",
              "</style>\n",
              "\n",
              "  <script>\n",
              "    async function quickchart(key) {\n",
              "      const quickchartButtonEl =\n",
              "        document.querySelector('#' + key + ' button');\n",
              "      quickchartButtonEl.disabled = true;  // To prevent multiple clicks.\n",
              "      quickchartButtonEl.classList.add('colab-df-spinner');\n",
              "      try {\n",
              "        const charts = await google.colab.kernel.invokeFunction(\n",
              "            'suggestCharts', [key], {});\n",
              "      } catch (error) {\n",
              "        console.error('Error during call to suggestCharts:', error);\n",
              "      }\n",
              "      quickchartButtonEl.classList.remove('colab-df-spinner');\n",
              "      quickchartButtonEl.classList.add('colab-df-quickchart-complete');\n",
              "    }\n",
              "    (() => {\n",
              "      let quickchartButtonEl =\n",
              "        document.querySelector('#df-3fd72da7-8dbd-401d-8c95-b4460790cbf7 button');\n",
              "      quickchartButtonEl.style.display =\n",
              "        google.colab.kernel.accessAllowed ? 'block' : 'none';\n",
              "    })();\n",
              "  </script>\n",
              "</div>\n",
              "\n",
              "    </div>\n",
              "  </div>\n"
            ],
            "text/plain": [
              "   Weight gained (grams)  Calories Consumed\n",
              "0                    108               1500\n",
              "1                    200               2300\n",
              "2                    900               3400\n",
              "3                    200               2200\n",
              "4                    300               2500"
            ]
          },
          "execution_count": 6,
          "metadata": {},
          "output_type": "execute_result"
        }
      ],
      "source": [
        "df.head()"
      ]
    },
    {
      "cell_type": "markdown",
      "id": "ZS82b_ry48RA",
      "metadata": {
        "id": "ZS82b_ry48RA"
      },
      "source": [
        "## 3. Data Preprocessing"
      ]
    },
    {
      "cell_type": "code",
      "execution_count": 3,
      "id": "wKEuizVz3xp5",
      "metadata": {
        "colab": {
          "base_uri": "https://localhost:8080/",
          "height": 146
        },
        "id": "wKEuizVz3xp5",
        "outputId": "5c617c23-ee44-42b3-dfcc-d18b99920330"
      },
      "outputs": [
        {
          "data": {
            "text/html": [
              "<div>\n",
              "<style scoped>\n",
              "    .dataframe tbody tr th:only-of-type {\n",
              "        vertical-align: middle;\n",
              "    }\n",
              "\n",
              "    .dataframe tbody tr th {\n",
              "        vertical-align: top;\n",
              "    }\n",
              "\n",
              "    .dataframe thead th {\n",
              "        text-align: right;\n",
              "    }\n",
              "</style>\n",
              "<table border=\"1\" class=\"dataframe\">\n",
              "  <thead>\n",
              "    <tr style=\"text-align: right;\">\n",
              "      <th></th>\n",
              "      <th>0</th>\n",
              "    </tr>\n",
              "  </thead>\n",
              "  <tbody>\n",
              "    <tr>\n",
              "      <th>Weight gained (grams)</th>\n",
              "      <td>0</td>\n",
              "    </tr>\n",
              "    <tr>\n",
              "      <th>Calories Consumed</th>\n",
              "      <td>0</td>\n",
              "    </tr>\n",
              "  </tbody>\n",
              "</table>\n",
              "</div><br><label><b>dtype:</b> int64</label>"
            ],
            "text/plain": [
              "Weight gained (grams)    0\n",
              "Calories Consumed        0\n",
              "dtype: int64"
            ]
          },
          "execution_count": 3,
          "metadata": {},
          "output_type": "execute_result"
        }
      ],
      "source": [
        "#identifing null values\n",
        "df.isnull().sum()"
      ]
    },
    {
      "cell_type": "markdown",
      "id": "ziHWhSPP33VT",
      "metadata": {
        "id": "ziHWhSPP33VT"
      },
      "source": [
        "no null values"
      ]
    },
    {
      "cell_type": "code",
      "execution_count": 4,
      "id": "lr9w_wxG31Iz",
      "metadata": {
        "colab": {
          "base_uri": "https://localhost:8080/"
        },
        "id": "lr9w_wxG31Iz",
        "outputId": "e5e5db8c-575a-4395-a61b-624c988b941d"
      },
      "outputs": [
        {
          "data": {
            "text/plain": [
              "0"
            ]
          },
          "execution_count": 4,
          "metadata": {},
          "output_type": "execute_result"
        }
      ],
      "source": [
        "#identifying duplicates\n",
        "df.duplicated().sum()"
      ]
    },
    {
      "cell_type": "markdown",
      "id": "OyUUojSv38l5",
      "metadata": {
        "id": "OyUUojSv38l5"
      },
      "source": [
        "no duplicates"
      ]
    },
    {
      "cell_type": "code",
      "execution_count": 5,
      "id": "KEHLkb1k37n1",
      "metadata": {
        "colab": {
          "base_uri": "https://localhost:8080/"
        },
        "id": "KEHLkb1k37n1",
        "outputId": "f52b82df-01b0-4dec-e9a9-49c2da9ff296"
      },
      "outputs": [
        {
          "name": "stdout",
          "output_type": "stream",
          "text": [
            "<class 'pandas.core.frame.DataFrame'>\n",
            "RangeIndex: 14 entries, 0 to 13\n",
            "Data columns (total 2 columns):\n",
            " #   Column                 Non-Null Count  Dtype\n",
            "---  ------                 --------------  -----\n",
            " 0   Weight gained (grams)  14 non-null     int64\n",
            " 1   Calories Consumed      14 non-null     int64\n",
            "dtypes: int64(2)\n",
            "memory usage: 356.0 bytes\n"
          ]
        }
      ],
      "source": [
        "#check datatypes\n",
        "df.info()"
      ]
    },
    {
      "cell_type": "code",
      "execution_count": 9,
      "id": "cqrJlAb54Vn1",
      "metadata": {
        "colab": {
          "base_uri": "https://localhost:8080/",
          "height": 428
        },
        "id": "cqrJlAb54Vn1",
        "outputId": "813fa2d0-9b6c-4c25-e683-e249d5dfa505"
      },
      "outputs": [
        {
          "data": {
            "text/plain": [
              "<Axes: ylabel='Weight gained (grams)'>"
            ]
          },
          "execution_count": 9,
          "metadata": {},
          "output_type": "execute_result"
        },
        {
          "data": {
            "image/png": "[encoded data removed]",
            "text/plain": [
              "<Figure size 640x480 with 1 Axes>"
            ]
          },
          "metadata": {},
          "output_type": "display_data"
        }
      ],
      "source": [
        "sns.boxplot(df['Weight gained (grams)'])"
      ]
    },
    {
      "cell_type": "code",
      "execution_count": 10,
      "id": "1EM29RJO4cvH",
      "metadata": {
        "colab": {
          "base_uri": "https://localhost:8080/",
          "height": 430
        },
        "id": "1EM29RJO4cvH",
        "outputId": "ef83603b-dd5b-4ab4-e965-c185c35b3cc9"
      },
      "outputs": [
        {
          "data": {
            "text/plain": [
              "<Axes: ylabel='Calories Consumed'>"
            ]
          },
          "execution_count": 10,
          "metadata": {},
          "output_type": "execute_result"
        },
        {
          "data": {
            "image/png": "[encoded data removed]",
            "text/plain": [
              "<Figure size 640x480 with 1 Axes>"
            ]
          },
          "metadata": {},
          "output_type": "display_data"
        }
      ],
      "source": [
        "sns.boxplot(df['Calories Consumed'])"
      ]
    },
    {
      "cell_type": "markdown",
      "id": "lctv4yOQ4xga",
      "metadata": {
        "id": "lctv4yOQ4xga"
      },
      "source": [
        "no outliers"
      ]
    },
    {
      "cell_type": "markdown",
      "id": "cT24l0aH5CPx",
      "metadata": {
        "id": "cT24l0aH5CPx"
      },
      "source": [
        "## 4. EDA"
      ]
    },
    {
      "cell_type": "code",
      "execution_count": 11,
      "id": "ythyENxL4wO6",
      "metadata": {
        "colab": {
          "base_uri": "https://localhost:8080/",
          "height": 300
        },
        "id": "ythyENxL4wO6",
        "outputId": "99c48526-81e8-49c0-b00b-f0ebc5442719"
      },
      "outputs": [
        {
          "data": {
            "application/vnd.google.colaboratory.intrinsic+json": {
              "summary": "{\n  \"name\": \"df\",\n  \"rows\": 8,\n  \"fields\": [\n    {\n      \"column\": \"Weight gained (grams)\",\n      \"properties\": {\n        \"dtype\": \"number\",\n        \"std\": 352.73827540446155,\n        \"min\": 14.0,\n        \"max\": 1100.0,\n        \"num_unique_values\": 8,\n        \"samples\": [\n          357.7142857142857,\n          200.0,\n          14.0\n        ],\n        \"semantic_type\": \"\",\n        \"description\": \"\"\n      }\n    },\n    {\n      \"column\": \"Calories Consumed\",\n      \"properties\": {\n        \"dtype\": \"number\",\n        \"std\": 1209.2826764357142,\n        \"min\": 14.0,\n        \"max\": 3900.0,\n        \"num_unique_values\": 8,\n        \"samples\": [\n          2340.714285714286,\n          2250.0,\n          14.0\n        ],\n        \"semantic_type\": \"\",\n        \"description\": \"\"\n      }\n    }\n  ]\n}",
              "type": "dataframe"
            },
            "text/html": [
              "\n",
              "  <div id=\"df-184de1ce-f522-4011-b454-ba33c82391f2\" class=\"colab-df-container\">\n",
              "    <div>\n",
              "<style scoped>\n",
              "    .dataframe tbody tr th:only-of-type {\n",
              "        vertical-align: middle;\n",
              "    }\n",
              "\n",
              "    .dataframe tbody tr th {\n",
              "        vertical-align: top;\n",
              "    }\n",
              "\n",
              "    .dataframe thead th {\n",
              "        text-align: right;\n",
              "    }\n",
              "</style>\n",
              "<table border=\"1\" class=\"dataframe\">\n",
              "  <thead>\n",
              "    <tr style=\"text-align: right;\">\n",
              "      <th></th>\n",
              "      <th>Weight gained (grams)</th>\n",
              "      <th>Calories Consumed</th>\n",
              "    </tr>\n",
              "  </thead>\n",
              "  <tbody>\n",
              "    <tr>\n",
              "      <th>count</th>\n",
              "      <td>14.000000</td>\n",
              "      <td>14.000000</td>\n",
              "    </tr>\n",
              "    <tr>\n",
              "      <th>mean</th>\n",
              "      <td>357.714286</td>\n",
              "      <td>2340.714286</td>\n",
              "    </tr>\n",
              "    <tr>\n",
              "      <th>std</th>\n",
              "      <td>333.692495</td>\n",
              "      <td>752.109488</td>\n",
              "    </tr>\n",
              "    <tr>\n",
              "      <th>min</th>\n",
              "      <td>62.000000</td>\n",
              "      <td>1400.000000</td>\n",
              "    </tr>\n",
              "    <tr>\n",
              "      <th>25%</th>\n",
              "      <td>114.500000</td>\n",
              "      <td>1727.500000</td>\n",
              "    </tr>\n",
              "    <tr>\n",
              "      <th>50%</th>\n",
              "      <td>200.000000</td>\n",
              "      <td>2250.000000</td>\n",
              "    </tr>\n",
              "    <tr>\n",
              "      <th>75%</th>\n",
              "      <td>537.500000</td>\n",
              "      <td>2775.000000</td>\n",
              "    </tr>\n",
              "    <tr>\n",
              "      <th>max</th>\n",
              "      <td>1100.000000</td>\n",
              "      <td>3900.000000</td>\n",
              "    </tr>\n",
              "  </tbody>\n",
              "</table>\n",
              "</div>\n",
              "    <div class=\"colab-df-buttons\">\n",
              "\n",
              "  <div class=\"colab-df-container\">\n",
              "    <button class=\"colab-df-convert\" onclick=\"convertToInteractive('df-184de1ce-f522-4011-b454-ba33c82391f2')\"\n",
              "            title=\"Convert this dataframe to an interactive table.\"\n",
              "            style=\"display:none;\">\n",
              "\n",
              "  <svg xmlns=\"http://www.w3.org/2000/svg\" height=\"24px\" viewBox=\"0 -960 960 960\">\n",
              "    <path d=\"M120-120v-720h720v720H120Zm60-500h600v-160H180v160Zm220 220h160v-160H400v160Zm0 220h160v-160H400v160ZM180-400h160v-160H180v160Zm440 0h160v-160H620v160ZM180-180h160v-160H180v160Zm440 0h160v-160H620v160Z\"/>\n",
              "  </svg>\n",
              "    </button>\n",
              "\n",
              "  <style>\n",
              "    .colab-df-container {\n",
              "      display:flex;\n",
              "      gap: 12px;\n",
              "    }\n",
              "\n",
              "    .colab-df-convert {\n",
              "      background-color: #E8F0FE;\n",
              "      border: none;\n",
              "      border-radius: 50%;\n",
              "      cursor: pointer;\n",
              "      display: none;\n",
              "      fill: #1967D2;\n",
              "      height: 32px;\n",
              "      padding: 0 0 0 0;\n",
              "      width: 32px;\n",
              "    }\n",
              "\n",
              "    .colab-df-convert:hover {\n",
              "      background-color: #E2EBFA;\n",
              "      box-shadow: 0px 1px 2px rgba(60, 64, 67, 0.3), 0px 1px 3px 1px rgba(60, 64, 67, 0.15);\n",
              "      fill: #174EA6;\n",
              "    }\n",
              "\n",
              "    .colab-df-buttons div {\n",
              "      margin-bottom: 4px;\n",
              "    }\n",
              "\n",
              "    [theme=dark] .colab-df-convert {\n",
              "      background-color: #3B4455;\n",
              "      fill: #D2E3FC;\n",
              "    }\n",
              "\n",
              "    [theme=dark] .colab-df-convert:hover {\n",
              "      background-color: #434B5C;\n",
              "      box-shadow: 0px 1px 3px 1px rgba(0, 0, 0, 0.15);\n",
              "      filter: drop-shadow(0px 1px 2px rgba(0, 0, 0, 0.3));\n",
              "      fill: #FFFFFF;\n",
              "    }\n",
              "  </style>\n",
              "\n",
              "    <script>\n",
              "      const buttonEl =\n",
              "        document.querySelector('#df-184de1ce-f522-4011-b454-ba33c82391f2 button.colab-df-convert');\n",
              "      buttonEl.style.display =\n",
              "        google.colab.kernel.accessAllowed ? 'block' : 'none';\n",
              "\n",
              "      async function convertToInteractive(key) {\n",
              "        const element = document.querySelector('#df-184de1ce-f522-4011-b454-ba33c82391f2');\n",
              "        const dataTable =\n",
              "          await google.colab.kernel.invokeFunction('convertToInteractive',\n",
              "                                                    [key], {});\n",
              "        if (!dataTable) return;\n",
              "\n",
              "        const docLinkHtml = 'Like what you see? Visit the ' +\n",
              "          '<a target=\"_blank\" href=https://colab.research.google.com/notebooks/data_table.ipynb>data table notebook</a>'\n",
              "          + ' to learn more about interactive tables.';\n",
              "        element.innerHTML = '';\n",
              "        dataTable['output_type'] = 'display_data';\n",
              "        await google.colab.output.renderOutput(dataTable, element);\n",
              "        const docLink = document.createElement('div');\n",
              "        docLink.innerHTML = docLinkHtml;\n",
              "        element.appendChild(docLink);\n",
              "      }\n",
              "    </script>\n",
              "  </div>\n",
              "\n",
              "\n",
              "<div id=\"df-66ea6953-a8e3-47fd-a7dd-e777f0138e0a\">\n",
              "  <button class=\"colab-df-quickchart\" onclick=\"quickchart('df-66ea6953-a8e3-47fd-a7dd-e777f0138e0a')\"\n",
              "            title=\"Suggest charts\"\n",
              "            style=\"display:none;\">\n",
              "\n",
              "<svg xmlns=\"http://www.w3.org/2000/svg\" height=\"24px\"viewBox=\"0 0 24 24\"\n",
              "     width=\"24px\">\n",
              "    <g>\n",
              "        <path d=\"M19 3H5c-1.1 0-2 .9-2 2v14c0 1.1.9 2 2 2h14c1.1 0 2-.9 2-2V5c0-1.1-.9-2-2-2zM9 17H7v-7h2v7zm4 0h-2V7h2v10zm4 0h-2v-4h2v4z\"/>\n",
              "    </g>\n",
              "</svg>\n",
              "  </button>\n",
              "\n",
              "<style>\n",
              "  .colab-df-quickchart {\n",
              "      --bg-color: #E8F0FE;\n",
              "      --fill-color: #1967D2;\n",
              "      --hover-bg-color: #E2EBFA;\n",
              "      --hover-fill-color: #174EA6;\n",
              "      --disabled-fill-color: #AAA;\n",
              "      --disabled-bg-color: #DDD;\n",
              "  }\n",
              "\n",
              "  [theme=dark] .colab-df-quickchart {\n",
              "      --bg-color: #3B4455;\n",
              "      --fill-color: #D2E3FC;\n",
              "      --hover-bg-color: #434B5C;\n",
              "      --hover-fill-color: #FFFFFF;\n",
              "      --disabled-bg-color: #3B4455;\n",
              "      --disabled-fill-color: #666;\n",
              "  }\n",
              "\n",
              "  .colab-df-quickchart {\n",
              "    background-color: var(--bg-color);\n",
              "    border: none;\n",
              "    border-radius: 50%;\n",
              "    cursor: pointer;\n",
              "    display: none;\n",
              "    fill: var(--fill-color);\n",
              "    height: 32px;\n",
              "    padding: 0;\n",
              "    width: 32px;\n",
              "  }\n",
              "\n",
              "  .colab-df-quickchart:hover {\n",
              "    background-color: var(--hover-bg-color);\n",
              "    box-shadow: 0 1px 2px rgba(60, 64, 67, 0.3), 0 1px 3px 1px rgba(60, 64, 67, 0.15);\n",
              "    fill: var(--button-hover-fill-color);\n",
              "  }\n",
              "\n",
              "  .colab-df-quickchart-complete:disabled,\n",
              "  .colab-df-quickchart-complete:disabled:hover {\n",
              "    background-color: var(--disabled-bg-color);\n",
              "    fill: var(--disabled-fill-color);\n",
              "    box-shadow: none;\n",
              "  }\n",
              "\n",
              "  .colab-df-spinner {\n",
              "    border: 2px solid var(--fill-color);\n",
              "    border-color: transparent;\n",
              "    border-bottom-color: var(--fill-color);\n",
              "    animation:\n",
              "      spin 1s steps(1) infinite;\n",
              "  }\n",
              "\n",
              "  @keyframes spin {\n",
              "    0% {\n",
              "      border-color: transparent;\n",
              "      border-bottom-color: var(--fill-color);\n",
              "      border-left-color: var(--fill-color);\n",
              "    }\n",
              "    20% {\n",
              "      border-color: transparent;\n",
              "      border-left-color: var(--fill-color);\n",
              "      border-top-color: var(--fill-color);\n",
              "    }\n",
              "    30% {\n",
              "      border-color: transparent;\n",
              "      border-left-color: var(--fill-color);\n",
              "      border-top-color: var(--fill-color);\n",
              "      border-right-color: var(--fill-color);\n",
              "    }\n",
              "    40% {\n",
              "      border-color: transparent;\n",
              "      border-right-color: var(--fill-color);\n",
              "      border-top-color: var(--fill-color);\n",
              "    }\n",
              "    60% {\n",
              "      border-color: transparent;\n",
              "      border-right-color: var(--fill-color);\n",
              "    }\n",
              "    80% {\n",
              "      border-color: transparent;\n",
              "      border-right-color: var(--fill-color);\n",
              "      border-bottom-color: var(--fill-color);\n",
              "    }\n",
              "    90% {\n",
              "      border-color: transparent;\n",
              "      border-bottom-color: var(--fill-color);\n",
              "    }\n",
              "  }\n",
              "</style>\n",
              "\n",
              "  <script>\n",
              "    async function quickchart(key) {\n",
              "      const quickchartButtonEl =\n",
              "        document.querySelector('#' + key + ' button');\n",
              "      quickchartButtonEl.disabled = true;  // To prevent multiple clicks.\n",
              "      quickchartButtonEl.classList.add('colab-df-spinner');\n",
              "      try {\n",
              "        const charts = await google.colab.kernel.invokeFunction(\n",
              "            'suggestCharts', [key], {});\n",
              "      } catch (error) {\n",
              "        console.error('Error during call to suggestCharts:', error);\n",
              "      }\n",
              "      quickchartButtonEl.classList.remove('colab-df-spinner');\n",
              "      quickchartButtonEl.classList.add('colab-df-quickchart-complete');\n",
              "    }\n",
              "    (() => {\n",
              "      let quickchartButtonEl =\n",
              "        document.querySelector('#df-66ea6953-a8e3-47fd-a7dd-e777f0138e0a button');\n",
              "      quickchartButtonEl.style.display =\n",
              "        google.colab.kernel.accessAllowed ? 'block' : 'none';\n",
              "    })();\n",
              "  </script>\n",
              "</div>\n",
              "\n",
              "    </div>\n",
              "  </div>\n"
            ],
            "text/plain": [
              "       Weight gained (grams)  Calories Consumed\n",
              "count              14.000000          14.000000\n",
              "mean              357.714286        2340.714286\n",
              "std               333.692495         752.109488\n",
              "min                62.000000        1400.000000\n",
              "25%               114.500000        1727.500000\n",
              "50%               200.000000        2250.000000\n",
              "75%               537.500000        2775.000000\n",
              "max              1100.000000        3900.000000"
            ]
          },
          "execution_count": 11,
          "metadata": {},
          "output_type": "execute_result"
        }
      ],
      "source": [
        "df.describe()"
      ]
    },
    {
      "cell_type": "code",
      "execution_count": 13,
      "id": "2-zCbP915GRM",
      "metadata": {
        "colab": {
          "base_uri": "https://localhost:8080/",
          "height": 466
        },
        "id": "2-zCbP915GRM",
        "outputId": "60d5e52d-8cf8-466e-a5b1-7f44f4108aca"
      },
      "outputs": [
        {
          "data": {
            "text/plain": [
              "<Axes: xlabel='Weight gained (grams)', ylabel='Count'>"
            ]
          },
          "execution_count": 13,
          "metadata": {},
          "output_type": "execute_result"
        },
        {
          "data": {
            "image/png": "[encoded data removed]",
            "text/plain": [
              "<Figure size 640x480 with 1 Axes>"
            ]
          },
          "metadata": {},
          "output_type": "display_data"
        }
      ],
      "source": [
        "#univariate analysis\n",
        "sns.histplot(df['Weight gained (grams)'],kde=True)"
      ]
    },
    {
      "cell_type": "code",
      "execution_count": 14,
      "id": "uEQnOM6u5JCt",
      "metadata": {
        "colab": {
          "base_uri": "https://localhost:8080/",
          "height": 466
        },
        "id": "uEQnOM6u5JCt",
        "outputId": "e01f8ee3-8aca-4a64-8719-0b9500393b67"
      },
      "outputs": [
        {
          "data": {
            "text/plain": [
              "<Axes: xlabel='Calories Consumed', ylabel='Count'>"
            ]
          },
          "execution_count": 14,
          "metadata": {},
          "output_type": "execute_result"
        },
        {
          "data": {
            "image/png": "[encoded data removed]",
            "text/plain": [
              "<Figure size 640x480 with 1 Axes>"
            ]
          },
          "metadata": {},
          "output_type": "display_data"
        }
      ],
      "source": [
        "sns.histplot(df['Calories Consumed'],kde=True)"
      ]
    },
    {
      "cell_type": "code",
      "execution_count": 19,
      "id": "NZ7A_8b75XGt",
      "metadata": {
        "colab": {
          "base_uri": "https://localhost:8080/",
          "height": 466
        },
        "id": "NZ7A_8b75XGt",
        "outputId": "334e43b0-2b5f-4ae1-ac77-5227995d6a12"
      },
      "outputs": [
        {
          "data": {
            "text/plain": [
              "<Axes: xlabel='Calories Consumed', ylabel='Weight gained (grams)'>"
            ]
          },
          "execution_count": 19,
          "metadata": {},
          "output_type": "execute_result"
        },
        {
          "data": {
            "image/png": "[encoded data removed]",
            "text/plain": [
              "<Figure size 640x480 with 1 Axes>"
            ]
          },
          "metadata": {},
          "output_type": "display_data"
        }
      ],
      "source": [
        "#Bivariate analysis\n",
        "sns.scatterplot(x=df['Calories Consumed'],y=df['Weight gained (grams)'])"
      ]
    },
    {
      "cell_type": "code",
      "execution_count": 20,
      "id": "AKx9MELt5mIB",
      "metadata": {
        "colab": {
          "base_uri": "https://localhost:8080/",
          "height": 466
        },
        "id": "AKx9MELt5mIB",
        "outputId": "f1db8792-85e4-4780-8d29-c0844b86fa82"
      },
      "outputs": [
        {
          "data": {
            "text/plain": [
              "<Axes: xlabel='Calories Consumed', ylabel='Weight gained (grams)'>"
            ]
          },
          "execution_count": 20,
          "metadata": {},
          "output_type": "execute_result"
        },
        {
          "data": {
            "image/png": "[encoded data removed]",
            "text/plain": [
              "<Figure size 640x480 with 1 Axes>"
            ]
          },
          "metadata": {},
          "output_type": "display_data"
        }
      ],
      "source": [
        "#scatterplot with regression line\n",
        "sns.regplot(x=df['Calories Consumed'],y=df['Weight gained (grams)'])"
      ]
    },
    {
      "cell_type": "code",
      "execution_count": 21,
      "id": "-cHavx_-6lGg",
      "metadata": {
        "colab": {
          "base_uri": "https://localhost:8080/",
          "height": 112
        },
        "id": "-cHavx_-6lGg",
        "outputId": "8cdd80c7-8475-4296-c1eb-bff3de0c079f"
      },
      "outputs": [
        {
          "data": {
            "application/vnd.google.colaboratory.intrinsic+json": {
              "summary": "{\n  \"name\": \"df\",\n  \"rows\": 2,\n  \"fields\": [\n    {\n      \"column\": \"Weight gained (grams)\",\n      \"properties\": {\n        \"dtype\": \"number\",\n        \"std\": 0.037483017102171966,\n        \"min\": 0.9469910088554457,\n        \"max\": 1.0,\n        \"num_unique_values\": 2,\n        \"samples\": [\n          0.9469910088554457,\n          1.0\n        ],\n        \"semantic_type\": \"\",\n        \"description\": \"\"\n      }\n    },\n    {\n      \"column\": \"Calories Consumed\",\n      \"properties\": {\n        \"dtype\": \"number\",\n        \"std\": 0.037483017102171966,\n        \"min\": 0.9469910088554457,\n        \"max\": 1.0,\n        \"num_unique_values\": 2,\n        \"samples\": [\n          1.0,\n          0.9469910088554457\n        ],\n        \"semantic_type\": \"\",\n        \"description\": \"\"\n      }\n    }\n  ]\n}",
              "type": "dataframe"
            },
            "text/html": [
              "\n",
              "  <div id=\"df-bc2ed351-6277-430f-aaf0-b8c224a4f12a\" class=\"colab-df-container\">\n",
              "    <div>\n",
              "<style scoped>\n",
              "    .dataframe tbody tr th:only-of-type {\n",
              "        vertical-align: middle;\n",
              "    }\n",
              "\n",
              "    .dataframe tbody tr th {\n",
              "        vertical-align: top;\n",
              "    }\n",
              "\n",
              "    .dataframe thead th {\n",
              "        text-align: right;\n",
              "    }\n",
              "</style>\n",
              "<table border=\"1\" class=\"dataframe\">\n",
              "  <thead>\n",
              "    <tr style=\"text-align: right;\">\n",
              "      <th></th>\n",
              "      <th>Weight gained (grams)</th>\n",
              "      <th>Calories Consumed</th>\n",
              "    </tr>\n",
              "  </thead>\n",
              "  <tbody>\n",
              "    <tr>\n",
              "      <th>Weight gained (grams)</th>\n",
              "      <td>1.000000</td>\n",
              "      <td>0.946991</td>\n",
              "    </tr>\n",
              "    <tr>\n",
              "      <th>Calories Consumed</th>\n",
              "      <td>0.946991</td>\n",
              "      <td>1.000000</td>\n",
              "    </tr>\n",
              "  </tbody>\n",
              "</table>\n",
              "</div>\n",
              "    <div class=\"colab-df-buttons\">\n",
              "\n",
              "  <div class=\"colab-df-container\">\n",
              "    <button class=\"colab-df-convert\" onclick=\"convertToInteractive('df-bc2ed351-6277-430f-aaf0-b8c224a4f12a')\"\n",
              "            title=\"Convert this dataframe to an interactive table.\"\n",
              "            style=\"display:none;\">\n",
              "\n",
              "  <svg xmlns=\"http://www.w3.org/2000/svg\" height=\"24px\" viewBox=\"0 -960 960 960\">\n",
              "    <path d=\"M120-120v-720h720v720H120Zm60-500h600v-160H180v160Zm220 220h160v-160H400v160Zm0 220h160v-160H400v160ZM180-400h160v-160H180v160Zm440 0h160v-160H620v160ZM180-180h160v-160H180v160Zm440 0h160v-160H620v160Z\"/>\n",
              "  </svg>\n",
              "    </button>\n",
              "\n",
              "  <style>\n",
              "    .colab-df-container {\n",
              "      display:flex;\n",
              "      gap: 12px;\n",
              "    }\n",
              "\n",
              "    .colab-df-convert {\n",
              "      background-color: #E8F0FE;\n",
              "      border: none;\n",
              "      border-radius: 50%;\n",
              "      cursor: pointer;\n",
              "      display: none;\n",
              "      fill: #1967D2;\n",
              "      height: 32px;\n",
              "      padding: 0 0 0 0;\n",
              "      width: 32px;\n",
              "    }\n",
              "\n",
              "    .colab-df-convert:hover {\n",
              "      background-color: #E2EBFA;\n",
              "      box-shadow: 0px 1px 2px rgba(60, 64, 67, 0.3), 0px 1px 3px 1px rgba(60, 64, 67, 0.15);\n",
              "      fill: #174EA6;\n",
              "    }\n",
              "\n",
              "    .colab-df-buttons div {\n",
              "      margin-bottom: 4px;\n",
              "    }\n",
              "\n",
              "    [theme=dark] .colab-df-convert {\n",
              "      background-color: #3B4455;\n",
              "      fill: #D2E3FC;\n",
              "    }\n",
              "\n",
              "    [theme=dark] .colab-df-convert:hover {\n",
              "      background-color: #434B5C;\n",
              "      box-shadow: 0px 1px 3px 1px rgba(0, 0, 0, 0.15);\n",
              "      filter: drop-shadow(0px 1px 2px rgba(0, 0, 0, 0.3));\n",
              "      fill: #FFFFFF;\n",
              "    }\n",
              "  </style>\n",
              "\n",
              "    <script>\n",
              "      const buttonEl =\n",
              "        document.querySelector('#df-bc2ed351-6277-430f-aaf0-b8c224a4f12a button.colab-df-convert');\n",
              "      buttonEl.style.display =\n",
              "        google.colab.kernel.accessAllowed ? 'block' : 'none';\n",
              "\n",
              "      async function convertToInteractive(key) {\n",
              "        const element = document.querySelector('#df-bc2ed351-6277-430f-aaf0-b8c224a4f12a');\n",
              "        const dataTable =\n",
              "          await google.colab.kernel.invokeFunction('convertToInteractive',\n",
              "                                                    [key], {});\n",
              "        if (!dataTable) return;\n",
              "\n",
              "        const docLinkHtml = 'Like what you see? Visit the ' +\n",
              "          '<a target=\"_blank\" href=https://colab.research.google.com/notebooks/data_table.ipynb>data table notebook</a>'\n",
              "          + ' to learn more about interactive tables.';\n",
              "        element.innerHTML = '';\n",
              "        dataTable['output_type'] = 'display_data';\n",
              "        await google.colab.output.renderOutput(dataTable, element);\n",
              "        const docLink = document.createElement('div');\n",
              "        docLink.innerHTML = docLinkHtml;\n",
              "        element.appendChild(docLink);\n",
              "      }\n",
              "    </script>\n",
              "  </div>\n",
              "\n",
              "\n",
              "<div id=\"df-3821a4de-69a8-4927-bf15-22970d691d9e\">\n",
              "  <button class=\"colab-df-quickchart\" onclick=\"quickchart('df-3821a4de-69a8-4927-bf15-22970d691d9e')\"\n",
              "            title=\"Suggest charts\"\n",
              "            style=\"display:none;\">\n",
              "\n",
              "<svg xmlns=\"http://www.w3.org/2000/svg\" height=\"24px\"viewBox=\"0 0 24 24\"\n",
              "     width=\"24px\">\n",
              "    <g>\n",
              "        <path d=\"M19 3H5c-1.1 0-2 .9-2 2v14c0 1.1.9 2 2 2h14c1.1 0 2-.9 2-2V5c0-1.1-.9-2-2-2zM9 17H7v-7h2v7zm4 0h-2V7h2v10zm4 0h-2v-4h2v4z\"/>\n",
              "    </g>\n",
              "</svg>\n",
              "  </button>\n",
              "\n",
              "<style>\n",
              "  .colab-df-quickchart {\n",
              "      --bg-color: #E8F0FE;\n",
              "      --fill-color: #1967D2;\n",
              "      --hover-bg-color: #E2EBFA;\n",
              "      --hover-fill-color: #174EA6;\n",
              "      --disabled-fill-color: #AAA;\n",
              "      --disabled-bg-color: #DDD;\n",
              "  }\n",
              "\n",
              "  [theme=dark] .colab-df-quickchart {\n",
              "      --bg-color: #3B4455;\n",
              "      --fill-color: #D2E3FC;\n",
              "      --hover-bg-color: #434B5C;\n",
              "      --hover-fill-color: #FFFFFF;\n",
              "      --disabled-bg-color: #3B4455;\n",
              "      --disabled-fill-color: #666;\n",
              "  }\n",
              "\n",
              "  .colab-df-quickchart {\n",
              "    background-color: var(--bg-color);\n",
              "    border: none;\n",
              "    border-radius: 50%;\n",
              "    cursor: pointer;\n",
              "    display: none;\n",
              "    fill: var(--fill-color);\n",
              "    height: 32px;\n",
              "    padding: 0;\n",
              "    width: 32px;\n",
              "  }\n",
              "\n",
              "  .colab-df-quickchart:hover {\n",
              "    background-color: var(--hover-bg-color);\n",
              "    box-shadow: 0 1px 2px rgba(60, 64, 67, 0.3), 0 1px 3px 1px rgba(60, 64, 67, 0.15);\n",
              "    fill: var(--button-hover-fill-color);\n",
              "  }\n",
              "\n",
              "  .colab-df-quickchart-complete:disabled,\n",
              "  .colab-df-quickchart-complete:disabled:hover {\n",
              "    background-color: var(--disabled-bg-color);\n",
              "    fill: var(--disabled-fill-color);\n",
              "    box-shadow: none;\n",
              "  }\n",
              "\n",
              "  .colab-df-spinner {\n",
              "    border: 2px solid var(--fill-color);\n",
              "    border-color: transparent;\n",
              "    border-bottom-color: var(--fill-color);\n",
              "    animation:\n",
              "      spin 1s steps(1) infinite;\n",
              "  }\n",
              "\n",
              "  @keyframes spin {\n",
              "    0% {\n",
              "      border-color: transparent;\n",
              "      border-bottom-color: var(--fill-color);\n",
              "      border-left-color: var(--fill-color);\n",
              "    }\n",
              "    20% {\n",
              "      border-color: transparent;\n",
              "      border-left-color: var(--fill-color);\n",
              "      border-top-color: var(--fill-color);\n",
              "    }\n",
              "    30% {\n",
              "      border-color: transparent;\n",
              "      border-left-color: var(--fill-color);\n",
              "      border-top-color: var(--fill-color);\n",
              "      border-right-color: var(--fill-color);\n",
              "    }\n",
              "    40% {\n",
              "      border-color: transparent;\n",
              "      border-right-color: var(--fill-color);\n",
              "      border-top-color: var(--fill-color);\n",
              "    }\n",
              "    60% {\n",
              "      border-color: transparent;\n",
              "      border-right-color: var(--fill-color);\n",
              "    }\n",
              "    80% {\n",
              "      border-color: transparent;\n",
              "      border-right-color: var(--fill-color);\n",
              "      border-bottom-color: var(--fill-color);\n",
              "    }\n",
              "    90% {\n",
              "      border-color: transparent;\n",
              "      border-bottom-color: var(--fill-color);\n",
              "    }\n",
              "  }\n",
              "</style>\n",
              "\n",
              "  <script>\n",
              "    async function quickchart(key) {\n",
              "      const quickchartButtonEl =\n",
              "        document.querySelector('#' + key + ' button');\n",
              "      quickchartButtonEl.disabled = true;  // To prevent multiple clicks.\n",
              "      quickchartButtonEl.classList.add('colab-df-spinner');\n",
              "      try {\n",
              "        const charts = await google.colab.kernel.invokeFunction(\n",
              "            'suggestCharts', [key], {});\n",
              "      } catch (error) {\n",
              "        console.error('Error during call to suggestCharts:', error);\n",
              "      }\n",
              "      quickchartButtonEl.classList.remove('colab-df-spinner');\n",
              "      quickchartButtonEl.classList.add('colab-df-quickchart-complete');\n",
              "    }\n",
              "    (() => {\n",
              "      let quickchartButtonEl =\n",
              "        document.querySelector('#df-3821a4de-69a8-4927-bf15-22970d691d9e button');\n",
              "      quickchartButtonEl.style.display =\n",
              "        google.colab.kernel.accessAllowed ? 'block' : 'none';\n",
              "    })();\n",
              "  </script>\n",
              "</div>\n",
              "\n",
              "    </div>\n",
              "  </div>\n"
            ],
            "text/plain": [
              "                       Weight gained (grams)  Calories Consumed\n",
              "Weight gained (grams)               1.000000           0.946991\n",
              "Calories Consumed                   0.946991           1.000000"
            ]
          },
          "execution_count": 21,
          "metadata": {},
          "output_type": "execute_result"
        }
      ],
      "source": [
        "#correlation matrix\n",
        "df.corr()"
      ]
    },
    {
      "cell_type": "code",
      "execution_count": 22,
      "id": "a1N9EfbB67Ir",
      "metadata": {
        "colab": {
          "base_uri": "https://localhost:8080/",
          "height": 530
        },
        "id": "a1N9EfbB67Ir",
        "outputId": "f1060258-5583-4e34-9526-590df7f67ce7"
      },
      "outputs": [
        {
          "data": {
            "text/plain": [
              "<seaborn.axisgrid.PairGrid at 0x784ea8e9bc90>"
            ]
          },
          "execution_count": 22,
          "metadata": {},
          "output_type": "execute_result"
        },
        {
          "data": {
            "image/png": "[encoded data removed]",
            "text/plain": [
              "<Figure size 500x500 with 6 Axes>"
            ]
          },
          "metadata": {},
          "output_type": "display_data"
        }
      ],
      "source": [
        "sns.pairplot(df)"
      ]
    },
    {
      "cell_type": "code",
      "execution_count": 23,
      "id": "JNDgCq-A7GyB",
      "metadata": {
        "colab": {
          "base_uri": "https://localhost:8080/",
          "height": 452
        },
        "id": "JNDgCq-A7GyB",
        "outputId": "e98b74e3-cc00-4f0d-fcd6-a7ea4a93f63e"
      },
      "outputs": [
        {
          "data": {
            "text/plain": [
              "<Axes: >"
            ]
          },
          "execution_count": 23,
          "metadata": {},
          "output_type": "execute_result"
        },
        {
          "data": {
            "image/png": "[encoded data removed]",
            "text/plain": [
              "<Figure size 640x480 with 2 Axes>"
            ]
          },
          "metadata": {},
          "output_type": "display_data"
        }
      ],
      "source": [
        "sns.heatmap(df.corr(),annot=True)"
      ]
    },
    {
      "cell_type": "markdown",
      "id": "XThS8sGU7eFw",
      "metadata": {
        "id": "XThS8sGU7eFw"
      },
      "source": [
        "## 5. Model Building"
      ]
    },
    {
      "cell_type": "code",
      "execution_count": null,
      "id": "adac94be",
      "metadata": {},
      "outputs": [],
      "source": [
        "from sklearn.model_selection import train_test_split\n",
        "from sklearn.linear_model import LinearRegression\n",
        "from sklearn.metrics import mean_squared_error, r2_score\n",
        "from sklearn.preprocessing import PolynomialFeatures"
      ]
    },
    {
      "cell_type": "code",
      "execution_count": 28,
      "id": "fbx7DZO77Vvt",
      "metadata": {
        "id": "fbx7DZO77Vvt"
      },
      "outputs": [],
      "source": [
        "X = df[['Weight gained (grams)']]\n",
        "y = df['Calories Consumed']"
      ]
    },
    {
      "cell_type": "code",
      "execution_count": 29,
      "id": "jcyk-yaD76Dp",
      "metadata": {
        "id": "jcyk-yaD76Dp"
      },
      "outputs": [],
      "source": [
        "#dividing the data in train and test sets\n",
        "X_train,X_test,y_train,y_test=train_test_split(X,y,test_size=0.2,random_state=42)"
      ]
    },
    {
      "cell_type": "code",
      "execution_count": 30,
      "id": "xGnxcf_z8Cds",
      "metadata": {
        "id": "xGnxcf_z8Cds"
      },
      "outputs": [],
      "source": [
        "model=LinearRegression()"
      ]
    },
    {
      "cell_type": "code",
      "execution_count": 31,
      "id": "isPqIi3S8Iun",
      "metadata": {
        "colab": {
          "base_uri": "https://localhost:8080/",
          "height": 80
        },
        "id": "isPqIi3S8Iun",
        "outputId": "1f61eac1-befa-4d42-8f7c-36506122bb2d"
      },
      "outputs": [
        {
          "data": {
            "text/html": [
              "<style>#sk-container-id-1 {\n",
              "  /* Definition of color scheme common for light and dark mode */\n",
              "  --sklearn-color-text: #000;\n",
              "  --sklearn-color-text-muted: #666;\n",
              "  --sklearn-color-line: gray;\n",
              "  /* Definition of color scheme for unfitted estimators */\n",
              "  --sklearn-color-unfitted-level-0: #fff5e6;\n",
              "  --sklearn-color-unfitted-level-1: #f6e4d2;\n",
              "  --sklearn-color-unfitted-level-2: #ffe0b3;\n",
              "  --sklearn-color-unfitted-level-3: chocolate;\n",
              "  /* Definition of color scheme for fitted estimators */\n",
              "  --sklearn-color-fitted-level-0: #f0f8ff;\n",
              "  --sklearn-color-fitted-level-1: #d4ebff;\n",
              "  --sklearn-color-fitted-level-2: #b3dbfd;\n",
              "  --sklearn-color-fitted-level-3: cornflowerblue;\n",
              "\n",
              "  /* Specific color for light theme */\n",
              "  --sklearn-color-text-on-default-background: var(--sg-text-color, var(--theme-code-foreground, var(--jp-content-font-color1, black)));\n",
              "  --sklearn-color-background: var(--sg-background-color, var(--theme-background, var(--jp-layout-color0, white)));\n",
              "  --sklearn-color-border-box: var(--sg-text-color, var(--theme-code-foreground, var(--jp-content-font-color1, black)));\n",
              "  --sklearn-color-icon: #696969;\n",
              "\n",
              "  @media (prefers-color-scheme: dark) {\n",
              "    /* Redefinition of color scheme for dark theme */\n",
              "    --sklearn-color-text-on-default-background: var(--sg-text-color, var(--theme-code-foreground, var(--jp-content-font-color1, white)));\n",
              "    --sklearn-color-background: var(--sg-background-color, var(--theme-background, var(--jp-layout-color0, #111)));\n",
              "    --sklearn-color-border-box: var(--sg-text-color, var(--theme-code-foreground, var(--jp-content-font-color1, white)));\n",
              "    --sklearn-color-icon: #878787;\n",
              "  }\n",
              "}\n",
              "\n",
              "#sk-container-id-1 {\n",
              "  color: var(--sklearn-color-text);\n",
              "}\n",
              "\n",
              "#sk-container-id-1 pre {\n",
              "  padding: 0;\n",
              "}\n",
              "\n",
              "#sk-container-id-1 input.sk-hidden--visually {\n",
              "  border: 0;\n",
              "  clip: rect(1px 1px 1px 1px);\n",
              "  clip: rect(1px, 1px, 1px, 1px);\n",
              "  height: 1px;\n",
              "  margin: -1px;\n",
              "  overflow: hidden;\n",
              "  padding: 0;\n",
              "  position: absolute;\n",
              "  width: 1px;\n",
              "}\n",
              "\n",
              "#sk-container-id-1 div.sk-dashed-wrapped {\n",
              "  border: 1px dashed var(--sklearn-color-line);\n",
              "  margin: 0 0.4em 0.5em 0.4em;\n",
              "  box-sizing: border-box;\n",
              "  padding-bottom: 0.4em;\n",
              "  background-color: var(--sklearn-color-background);\n",
              "}\n",
              "\n",
              "#sk-container-id-1 div.sk-container {\n",
              "  /* jupyter's `normalize.less` sets `[hidden] { display: none; }`\n",
              "     but bootstrap.min.css set `[hidden] { display: none !important; }`\n",
              "     so we also need the `!important` here to be able to override the\n",
              "     default hidden behavior on the sphinx rendered scikit-learn.org.\n",
              "     See: https://github.com/scikit-learn/scikit-learn/issues/21755 */\n",
              "  display: inline-block !important;\n",
              "  position: relative;\n",
              "}\n",
              "\n",
              "#sk-container-id-1 div.sk-text-repr-fallback {\n",
              "  display: none;\n",
              "}\n",
              "\n",
              "div.sk-parallel-item,\n",
              "div.sk-serial,\n",
              "div.sk-item {\n",
              "  /* draw centered vertical line to link estimators */\n",
              "  background-image: linear-gradient(var(--sklearn-color-text-on-default-background), var(--sklearn-color-text-on-default-background));\n",
              "  background-size: 2px 100%;\n",
              "  background-repeat: no-repeat;\n",
              "  background-position: center center;\n",
              "}\n",
              "\n",
              "/* Parallel-specific style estimator block */\n",
              "\n",
              "#sk-container-id-1 div.sk-parallel-item::after {\n",
              "  content: \"\";\n",
              "  width: 100%;\n",
              "  border-bottom: 2px solid var(--sklearn-color-text-on-default-background);\n",
              "  flex-grow: 1;\n",
              "}\n",
              "\n",
              "#sk-container-id-1 div.sk-parallel {\n",
              "  display: flex;\n",
              "  align-items: stretch;\n",
              "  justify-content: center;\n",
              "  background-color: var(--sklearn-color-background);\n",
              "  position: relative;\n",
              "}\n",
              "\n",
              "#sk-container-id-1 div.sk-parallel-item {\n",
              "  display: flex;\n",
              "  flex-direction: column;\n",
              "}\n",
              "\n",
              "#sk-container-id-1 div.sk-parallel-item:first-child::after {\n",
              "  align-self: flex-end;\n",
              "  width: 50%;\n",
              "}\n",
              "\n",
              "#sk-container-id-1 div.sk-parallel-item:last-child::after {\n",
              "  align-self: flex-start;\n",
              "  width: 50%;\n",
              "}\n",
              "\n",
              "#sk-container-id-1 div.sk-parallel-item:only-child::after {\n",
              "  width: 0;\n",
              "}\n",
              "\n",
              "/* Serial-specific style estimator block */\n",
              "\n",
              "#sk-container-id-1 div.sk-serial {\n",
              "  display: flex;\n",
              "  flex-direction: column;\n",
              "  align-items: center;\n",
              "  background-color: var(--sklearn-color-background);\n",
              "  padding-right: 1em;\n",
              "  padding-left: 1em;\n",
              "}\n",
              "\n",
              "\n",
              "/* Toggleable style: style used for estimator/Pipeline/ColumnTransformer box that is\n",
              "clickable and can be expanded/collapsed.\n",
              "- Pipeline and ColumnTransformer use this feature and define the default style\n",
              "- Estimators will overwrite some part of the style using the `sk-estimator` class\n",
              "*/\n",
              "\n",
              "/* Pipeline and ColumnTransformer style (default) */\n",
              "\n",
              "#sk-container-id-1 div.sk-toggleable {\n",
              "  /* Default theme specific background. It is overwritten whether we have a\n",
              "  specific estimator or a Pipeline/ColumnTransformer */\n",
              "  background-color: var(--sklearn-color-background);\n",
              "}\n",
              "\n",
              "/* Toggleable label */\n",
              "#sk-container-id-1 label.sk-toggleable__label {\n",
              "  cursor: pointer;\n",
              "  display: flex;\n",
              "  width: 100%;\n",
              "  margin-bottom: 0;\n",
              "  padding: 0.5em;\n",
              "  box-sizing: border-box;\n",
              "  text-align: center;\n",
              "  align-items: start;\n",
              "  justify-content: space-between;\n",
              "  gap: 0.5em;\n",
              "}\n",
              "\n",
              "#sk-container-id-1 label.sk-toggleable__label .caption {\n",
              "  font-size: 0.6rem;\n",
              "  font-weight: lighter;\n",
              "  color: var(--sklearn-color-text-muted);\n",
              "}\n",
              "\n",
              "#sk-container-id-1 label.sk-toggleable__label-arrow:before {\n",
              "  /* Arrow on the left of the label */\n",
              "  content: \"▸\";\n",
              "  float: left;\n",
              "  margin-right: 0.25em;\n",
              "  color: var(--sklearn-color-icon);\n",
              "}\n",
              "\n",
              "#sk-container-id-1 label.sk-toggleable__label-arrow:hover:before {\n",
              "  color: var(--sklearn-color-text);\n",
              "}\n",
              "\n",
              "/* Toggleable content - dropdown */\n",
              "\n",
              "#sk-container-id-1 div.sk-toggleable__content {\n",
              "  max-height: 0;\n",
              "  max-width: 0;\n",
              "  overflow: hidden;\n",
              "  text-align: left;\n",
              "  /* unfitted */\n",
              "  background-color: var(--sklearn-color-unfitted-level-0);\n",
              "}\n",
              "\n",
              "#sk-container-id-1 div.sk-toggleable__content.fitted {\n",
              "  /* fitted */\n",
              "  background-color: var(--sklearn-color-fitted-level-0);\n",
              "}\n",
              "\n",
              "#sk-container-id-1 div.sk-toggleable__content pre {\n",
              "  margin: 0.2em;\n",
              "  border-radius: 0.25em;\n",
              "  color: var(--sklearn-color-text);\n",
              "  /* unfitted */\n",
              "  background-color: var(--sklearn-color-unfitted-level-0);\n",
              "}\n",
              "\n",
              "#sk-container-id-1 div.sk-toggleable__content.fitted pre {\n",
              "  /* unfitted */\n",
              "  background-color: var(--sklearn-color-fitted-level-0);\n",
              "}\n",
              "\n",
              "#sk-container-id-1 input.sk-toggleable__control:checked~div.sk-toggleable__content {\n",
              "  /* Expand drop-down */\n",
              "  max-height: 200px;\n",
              "  max-width: 100%;\n",
              "  overflow: auto;\n",
              "}\n",
              "\n",
              "#sk-container-id-1 input.sk-toggleable__control:checked~label.sk-toggleable__label-arrow:before {\n",
              "  content: \"▾\";\n",
              "}\n",
              "\n",
              "/* Pipeline/ColumnTransformer-specific style */\n",
              "\n",
              "#sk-container-id-1 div.sk-label input.sk-toggleable__control:checked~label.sk-toggleable__label {\n",
              "  color: var(--sklearn-color-text);\n",
              "  background-color: var(--sklearn-color-unfitted-level-2);\n",
              "}\n",
              "\n",
              "#sk-container-id-1 div.sk-label.fitted input.sk-toggleable__control:checked~label.sk-toggleable__label {\n",
              "  background-color: var(--sklearn-color-fitted-level-2);\n",
              "}\n",
              "\n",
              "/* Estimator-specific style */\n",
              "\n",
              "/* Colorize estimator box */\n",
              "#sk-container-id-1 div.sk-estimator input.sk-toggleable__control:checked~label.sk-toggleable__label {\n",
              "  /* unfitted */\n",
              "  background-color: var(--sklearn-color-unfitted-level-2);\n",
              "}\n",
              "\n",
              "#sk-container-id-1 div.sk-estimator.fitted input.sk-toggleable__control:checked~label.sk-toggleable__label {\n",
              "  /* fitted */\n",
              "  background-color: var(--sklearn-color-fitted-level-2);\n",
              "}\n",
              "\n",
              "#sk-container-id-1 div.sk-label label.sk-toggleable__label,\n",
              "#sk-container-id-1 div.sk-label label {\n",
              "  /* The background is the default theme color */\n",
              "  color: var(--sklearn-color-text-on-default-background);\n",
              "}\n",
              "\n",
              "/* On hover, darken the color of the background */\n",
              "#sk-container-id-1 div.sk-label:hover label.sk-toggleable__label {\n",
              "  color: var(--sklearn-color-text);\n",
              "  background-color: var(--sklearn-color-unfitted-level-2);\n",
              "}\n",
              "\n",
              "/* Label box, darken color on hover, fitted */\n",
              "#sk-container-id-1 div.sk-label.fitted:hover label.sk-toggleable__label.fitted {\n",
              "  color: var(--sklearn-color-text);\n",
              "  background-color: var(--sklearn-color-fitted-level-2);\n",
              "}\n",
              "\n",
              "/* Estimator label */\n",
              "\n",
              "#sk-container-id-1 div.sk-label label {\n",
              "  font-family: monospace;\n",
              "  font-weight: bold;\n",
              "  display: inline-block;\n",
              "  line-height: 1.2em;\n",
              "}\n",
              "\n",
              "#sk-container-id-1 div.sk-label-container {\n",
              "  text-align: center;\n",
              "}\n",
              "\n",
              "/* Estimator-specific */\n",
              "#sk-container-id-1 div.sk-estimator {\n",
              "  font-family: monospace;\n",
              "  border: 1px dotted var(--sklearn-color-border-box);\n",
              "  border-radius: 0.25em;\n",
              "  box-sizing: border-box;\n",
              "  margin-bottom: 0.5em;\n",
              "  /* unfitted */\n",
              "  background-color: var(--sklearn-color-unfitted-level-0);\n",
              "}\n",
              "\n",
              "#sk-container-id-1 div.sk-estimator.fitted {\n",
              "  /* fitted */\n",
              "  background-color: var(--sklearn-color-fitted-level-0);\n",
              "}\n",
              "\n",
              "/* on hover */\n",
              "#sk-container-id-1 div.sk-estimator:hover {\n",
              "  /* unfitted */\n",
              "  background-color: var(--sklearn-color-unfitted-level-2);\n",
              "}\n",
              "\n",
              "#sk-container-id-1 div.sk-estimator.fitted:hover {\n",
              "  /* fitted */\n",
              "  background-color: var(--sklearn-color-fitted-level-2);\n",
              "}\n",
              "\n",
              "/* Specification for estimator info (e.g. \"i\" and \"?\") */\n",
              "\n",
              "/* Common style for \"i\" and \"?\" */\n",
              "\n",
              ".sk-estimator-doc-link,\n",
              "a:link.sk-estimator-doc-link,\n",
              "a:visited.sk-estimator-doc-link {\n",
              "  float: right;\n",
              "  font-size: smaller;\n",
              "  line-height: 1em;\n",
              "  font-family: monospace;\n",
              "  background-color: var(--sklearn-color-background);\n",
              "  border-radius: 1em;\n",
              "  height: 1em;\n",
              "  width: 1em;\n",
              "  text-decoration: none !important;\n",
              "  margin-left: 0.5em;\n",
              "  text-align: center;\n",
              "  /* unfitted */\n",
              "  border: var(--sklearn-color-unfitted-level-1) 1pt solid;\n",
              "  color: var(--sklearn-color-unfitted-level-1);\n",
              "}\n",
              "\n",
              ".sk-estimator-doc-link.fitted,\n",
              "a:link.sk-estimator-doc-link.fitted,\n",
              "a:visited.sk-estimator-doc-link.fitted {\n",
              "  /* fitted */\n",
              "  border: var(--sklearn-color-fitted-level-1) 1pt solid;\n",
              "  color: var(--sklearn-color-fitted-level-1);\n",
              "}\n",
              "\n",
              "/* On hover */\n",
              "div.sk-estimator:hover .sk-estimator-doc-link:hover,\n",
              ".sk-estimator-doc-link:hover,\n",
              "div.sk-label-container:hover .sk-estimator-doc-link:hover,\n",
              ".sk-estimator-doc-link:hover {\n",
              "  /* unfitted */\n",
              "  background-color: var(--sklearn-color-unfitted-level-3);\n",
              "  color: var(--sklearn-color-background);\n",
              "  text-decoration: none;\n",
              "}\n",
              "\n",
              "div.sk-estimator.fitted:hover .sk-estimator-doc-link.fitted:hover,\n",
              ".sk-estimator-doc-link.fitted:hover,\n",
              "div.sk-label-container:hover .sk-estimator-doc-link.fitted:hover,\n",
              ".sk-estimator-doc-link.fitted:hover {\n",
              "  /* fitted */\n",
              "  background-color: var(--sklearn-color-fitted-level-3);\n",
              "  color: var(--sklearn-color-background);\n",
              "  text-decoration: none;\n",
              "}\n",
              "\n",
              "/* Span, style for the box shown on hovering the info icon */\n",
              ".sk-estimator-doc-link span {\n",
              "  display: none;\n",
              "  z-index: 9999;\n",
              "  position: relative;\n",
              "  font-weight: normal;\n",
              "  right: .2ex;\n",
              "  padding: .5ex;\n",
              "  margin: .5ex;\n",
              "  width: min-content;\n",
              "  min-width: 20ex;\n",
              "  max-width: 50ex;\n",
              "  color: var(--sklearn-color-text);\n",
              "  box-shadow: 2pt 2pt 4pt #999;\n",
              "  /* unfitted */\n",
              "  background: var(--sklearn-color-unfitted-level-0);\n",
              "  border: .5pt solid var(--sklearn-color-unfitted-level-3);\n",
              "}\n",
              "\n",
              ".sk-estimator-doc-link.fitted span {\n",
              "  /* fitted */\n",
              "  background: var(--sklearn-color-fitted-level-0);\n",
              "  border: var(--sklearn-color-fitted-level-3);\n",
              "}\n",
              "\n",
              ".sk-estimator-doc-link:hover span {\n",
              "  display: block;\n",
              "}\n",
              "\n",
              "/* \"?\"-specific style due to the `<a>` HTML tag */\n",
              "\n",
              "#sk-container-id-1 a.estimator_doc_link {\n",
              "  float: right;\n",
              "  font-size: 1rem;\n",
              "  line-height: 1em;\n",
              "  font-family: monospace;\n",
              "  background-color: var(--sklearn-color-background);\n",
              "  border-radius: 1rem;\n",
              "  height: 1rem;\n",
              "  width: 1rem;\n",
              "  text-decoration: none;\n",
              "  /* unfitted */\n",
              "  color: var(--sklearn-color-unfitted-level-1);\n",
              "  border: var(--sklearn-color-unfitted-level-1) 1pt solid;\n",
              "}\n",
              "\n",
              "#sk-container-id-1 a.estimator_doc_link.fitted {\n",
              "  /* fitted */\n",
              "  border: var(--sklearn-color-fitted-level-1) 1pt solid;\n",
              "  color: var(--sklearn-color-fitted-level-1);\n",
              "}\n",
              "\n",
              "/* On hover */\n",
              "#sk-container-id-1 a.estimator_doc_link:hover {\n",
              "  /* unfitted */\n",
              "  background-color: var(--sklearn-color-unfitted-level-3);\n",
              "  color: var(--sklearn-color-background);\n",
              "  text-decoration: none;\n",
              "}\n",
              "\n",
              "#sk-container-id-1 a.estimator_doc_link.fitted:hover {\n",
              "  /* fitted */\n",
              "  background-color: var(--sklearn-color-fitted-level-3);\n",
              "}\n",
              "</style><div id=\"sk-container-id-1\" class=\"sk-top-container\"><div class=\"sk-text-repr-fallback\"><pre>LinearRegression()</pre><b>In a Jupyter environment, please rerun this cell to show the HTML representation or trust the notebook. <br />On GitHub, the HTML representation is unable to render, please try loading this page with nbviewer.org.</b></div><div class=\"sk-container\" hidden><div class=\"sk-item\"><div class=\"sk-estimator fitted sk-toggleable\"><input class=\"sk-toggleable__control sk-hidden--visually\" id=\"sk-estimator-id-1\" type=\"checkbox\" checked><label for=\"sk-estimator-id-1\" class=\"sk-toggleable__label fitted sk-toggleable__label-arrow\"><div><div>LinearRegression</div></div><div><a class=\"sk-estimator-doc-link fitted\" rel=\"noreferrer\" target=\"_blank\" href=\"https://scikit-learn.org/1.6/modules/generated/sklearn.linear_model.LinearRegression.html\">?<span>Documentation for LinearRegression</span></a><span class=\"sk-estimator-doc-link fitted\">i<span>Fitted</span></span></div></label><div class=\"sk-toggleable__content fitted\"><pre>LinearRegression()</pre></div> </div></div></div></div>"
            ],
            "text/plain": [
              "LinearRegression()"
            ]
          },
          "execution_count": 31,
          "metadata": {},
          "output_type": "execute_result"
        }
      ],
      "source": [
        "model.fit(X_train,y_train)"
      ]
    },
    {
      "cell_type": "code",
      "execution_count": 32,
      "id": "ZN6HUy6M8PLj",
      "metadata": {
        "id": "ZN6HUy6M8PLj"
      },
      "outputs": [],
      "source": [
        "y_pred=model.predict(X_test)"
      ]
    },
    {
      "cell_type": "code",
      "execution_count": 33,
      "id": "u2jlf1pF8niy",
      "metadata": {
        "colab": {
          "base_uri": "https://localhost:8080/"
        },
        "id": "u2jlf1pF8niy",
        "outputId": "1a7512fb-dc81-4ff4-b97f-0cb2c7579806"
      },
      "outputs": [
        {
          "name": "stdout",
          "output_type": "stream",
          "text": [
            "Simple Linear Regression - RMSE: 204.36123425476396, R-Squared: 0.9621097150609703\n"
          ]
        }
      ],
      "source": [
        "# Evaluate the model\n",
        "rmse = np.sqrt(mean_squared_error(y_test, y_pred))\n",
        "r2 = r2_score(y_test, y_pred)\n",
        "print(f'Simple Linear Regression - RMSE: {rmse}, R-Squared: {r2}')"
      ]
    },
    {
      "cell_type": "code",
      "execution_count": 34,
      "id": "rYOKlnoe9F9K",
      "metadata": {
        "colab": {
          "base_uri": "https://localhost:8080/"
        },
        "id": "rYOKlnoe9F9K",
        "outputId": "bdcf33ab-1345-4ff5-a04a-6dbbc58fc2be"
      },
      "outputs": [
        {
          "name": "stdout",
          "output_type": "stream",
          "text": [
            "Log Transformation - RMSE: 368.38278340416366, R-Squared: 0.8768797504055049\n"
          ]
        }
      ],
      "source": [
        "#Apply different transformations and calculate RMSE and correlation coefficient for each model\n",
        "#Log Transformation\n",
        "X_log = np.log(X)\n",
        "X_train_log, X_test_log, y_train_log, y_test_log = train_test_split(X_log, y, test_size=0.2, random_state=42)\n",
        "model_log = LinearRegression()\n",
        "model_log.fit(X_train_log, y_train_log)\n",
        "y_pred_log = model_log.predict(X_test_log)\n",
        "\n",
        "rmse_log = np.sqrt(mean_squared_error(y_test_log, y_pred_log))\n",
        "r2_log = r2_score(y_test_log, y_pred_log)\n",
        "print(f'Log Transformation - RMSE: {rmse_log}, R-Squared: {r2_log}')"
      ]
    },
    {
      "cell_type": "code",
      "execution_count": 35,
      "id": "J_gaUc1h-eBf",
      "metadata": {
        "colab": {
          "base_uri": "https://localhost:8080/"
        },
        "id": "J_gaUc1h-eBf",
        "outputId": "b81aafe8-aa46-447f-9210-a13f078fe913"
      },
      "outputs": [
        {
          "name": "stdout",
          "output_type": "stream",
          "text": [
            "Polynomial Transformation - RMSE: 399.28897235344664, R-Squared: 0.8553543194568908\n"
          ]
        }
      ],
      "source": [
        "#Polynomial Transformation\n",
        "poly = PolynomialFeatures(degree=2)\n",
        "X_poly = poly.fit_transform(X)\n",
        "X_train_poly, X_test_poly, y_train_poly, y_test_poly = train_test_split(X_poly, y, test_size=0.2, random_state=42)\n",
        "\n",
        "model_poly = LinearRegression()\n",
        "model_poly.fit(X_train_poly, y_train_poly)\n",
        "y_pred_poly = model_poly.predict(X_test_poly)\n",
        "\n",
        "rmse_poly = np.sqrt(mean_squared_error(y_test_poly, y_pred_poly))\n",
        "r2_poly = r2_score(y_test_poly, y_pred_poly)\n",
        "print(f'Polynomial Transformation - RMSE: {rmse_poly}, R-Squared: {r2_poly}')\n"
      ]
    },
    {
      "cell_type": "code",
      "execution_count": 36,
      "id": "HRgf5xqE-iKe",
      "metadata": {
        "colab": {
          "base_uri": "https://localhost:8080/"
        },
        "id": "HRgf5xqE-iKe",
        "outputId": "cd293052-0d8d-4e5d-80d4-7a5f69d16e5c"
      },
      "outputs": [
        {
          "name": "stdout",
          "output_type": "stream",
          "text": [
            "Best Model: Simple Linear Regression with RMSE: 204.36123425476396 and R-Squared: 0.9621097150609703\n"
          ]
        }
      ],
      "source": [
        "# Choose the best fit model\n",
        "best_model = min([(rmse, r2, 'Simple Linear Regression'), (rmse_log, r2_log, 'Log Transformation'), (rmse_poly, r2_poly, 'Polynomial Transformation')])\n",
        "\n",
        "print(f'Best Model: {best_model[2]} with RMSE: {best_model[0]} and R-Squared: {best_model[1]}')"
      ]
    },
    {
      "cell_type": "code",
      "execution_count": null,
      "id": "8gFnEz7m-xTH",
      "metadata": {
        "id": "8gFnEz7m-xTH"
      },
      "outputs": [],
      "source": []
    }
  ],
  "metadata": {
    "colab": {
      "include_colab_link": true,
      "provenance": []
    },
    "kernelspec": {
      "display_name": "Python 3",
      "name": "python3"
    },
    "language_info": {
      "name": "python"
    }
  },
  "nbformat": 4,
  "nbformat_minor": 5
}
